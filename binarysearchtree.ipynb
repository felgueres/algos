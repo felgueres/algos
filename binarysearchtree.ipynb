{
 "cells": [
  {
   "cell_type": "markdown",
   "id": "1056fdb0",
   "metadata": {},
   "source": [
    "### Binary Search Tree"
   ]
  },
  {
   "cell_type": "markdown",
   "id": "a1ee4c7e",
   "metadata": {},
   "source": [
    "Basic properties of BST\n",
    "- Linked data structure\n",
    "- Each Node is an object with attributes: val, left, right and p (parent)\n",
    "- For Node x, keys in left subtree are at <= x.val\n",
    "- For Node x, keys in right subtree are at >= x.val\n",
    "- Root Node is only with parent = NIL"
   ]
  },
  {
   "cell_type": "code",
   "execution_count": 118,
   "id": "f977c605",
   "metadata": {},
   "outputs": [],
   "source": [
    "class Node:\n",
    "    def __init__(self,val,left=None,right=None,parent=None):\n",
    "        self.val = val\n",
    "        self.left = left\n",
    "        self.right = right\n",
    "        self.parent = parent\n",
    "        \n",
    "    def __repr__(self):\n",
    "        return(f'(Val: {self.val} Left: {self.left} Right: {self.right})')\n",
    "    \n",
    "    def inorder_tree_walk(self):\n",
    "        def itw_helper(node):\n",
    "            if node is not None:\n",
    "                itw_helper(node.left)\n",
    "                print(node.val)\n",
    "                itw_helper(node.right)\n",
    "        itw_helper(self)"
   ]
  },
  {
   "cell_type": "markdown",
   "id": "975b59c4",
   "metadata": {},
   "source": [
    "From the structure of the BST, a property emerges\n",
    "- You can print all the keys in sorted order with two simple recursions, it is called inorder tree walk (inorder means that it prints, well, in-order, **low - root - high**). \n",
    "\n",
    "Note: \n",
    "- Preorder means printing root **before** either low or high subtrue\n",
    "- Post order means printing root **after** the values in its subtrees."
   ]
  },
  {
   "cell_type": "markdown",
   "id": "70e40d18",
   "metadata": {},
   "source": [
    "---"
   ]
  },
  {
   "cell_type": "code",
   "execution_count": 80,
   "id": "520372fc",
   "metadata": {},
   "outputs": [],
   "source": [
    "root = [6,2,8]"
   ]
  },
  {
   "cell_type": "code",
   "execution_count": 114,
   "id": "e6561a55",
   "metadata": {},
   "outputs": [],
   "source": [
    "# Implementing an inorder-tree-walk\n",
    "p = Node(val=6, left=Node(2), right=Node(8))"
   ]
  },
  {
   "cell_type": "code",
   "execution_count": 115,
   "id": "4292fc6f",
   "metadata": {},
   "outputs": [
    {
     "name": "stdout",
     "output_type": "stream",
     "text": [
      "2\n",
      "6\n",
      "8\n"
     ]
    }
   ],
   "source": [
    "p.inorder_tree_walk()"
   ]
  },
  {
   "cell_type": "markdown",
   "id": "a0af00e0",
   "metadata": {},
   "source": [
    "Let's take a look at how it does it."
   ]
  },
  {
   "cell_type": "markdown",
   "id": "76628eef",
   "metadata": {},
   "source": [
    "```py \n",
    "# Textbook algo\n",
    "def inorder(x):\n",
    "    if x not None:\n",
    "        inorder(x.left)\n",
    "        print(x.val)\n",
    "        inorder(x.right)\n",
    "```"
   ]
  },
  {
   "cell_type": "code",
   "execution_count": 119,
   "id": "f8523efa",
   "metadata": {},
   "outputs": [
    {
     "data": {
      "text/plain": [
       "(Val: 6 Left: (Val: 2 Left: None Right: None) Right: (Val: 8 Left: None Right: None))"
      ]
     },
     "execution_count": 119,
     "metadata": {},
     "output_type": "execute_result"
    }
   ],
   "source": [
    "p"
   ]
  },
  {
   "cell_type": "markdown",
   "id": "585fb907",
   "metadata": {},
   "source": [
    "```py\n",
    "\n",
    "# What happens with inorder(p)?\n",
    "\n",
    "# step 1:\n",
    "    if p not none:\n",
    "        inorder(p.left)\n",
    "        ...\n",
    "        \n",
    "# step 2:\n",
    "    if p.left not none:\n",
    "        inorder(p.left which is None)        \n",
    "        \n",
    "# step 3:\n",
    "    if None not none: False\n",
    "    \n",
    "# Continue on step 2, we have traversed the left tree.\n",
    "    if p.left not none:\n",
    "        inorder(p.left) : we know it is None so nothing happens\n",
    "        ...(resuming)\n",
    "        print(p.left.val) : first value of 2\n",
    "        inorder(p.right) : evaluates to no so nothing happens\n",
    "        \n",
    "# At this point we have all the original p.left, now to step 1:\n",
    "    if p not none:\n",
    "        inorder(p.left) : we print 2 as a result of this recursion\n",
    "        print(p.val) : we print 6 which is the root\n",
    "        inorder(p.right)\n",
    "# Step 4:\n",
    "    if p.right not none: True\n",
    "        inorder(p.left) : Nothing happens\n",
    "        print(p.right.val) : we print 8 \n",
    "        inorder(p.right): Nothing happens\n",
    "\n",
    "```\n"
   ]
  }
 ],
 "metadata": {
  "kernelspec": {
   "display_name": "Python [conda env:cs] *",
   "language": "python",
   "name": "conda-env-cs-py"
  },
  "language_info": {
   "codemirror_mode": {
    "name": "ipython",
    "version": 3
   },
   "file_extension": ".py",
   "mimetype": "text/x-python",
   "name": "python",
   "nbconvert_exporter": "python",
   "pygments_lexer": "ipython3",
   "version": "3.9.13"
  }
 },
 "nbformat": 4,
 "nbformat_minor": 5
}
